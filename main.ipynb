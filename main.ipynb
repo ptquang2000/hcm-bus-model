{
 "cells": [
  {
   "cell_type": "code",
   "execution_count": 1,
   "metadata": {},
   "outputs": [],
   "source": [
    "import IPython\n",
    "import simpy\n",
    "import concurrent\n",
    "import myutils"
   ]
  },
  {
   "cell_type": "code",
   "execution_count": 2,
   "metadata": {},
   "outputs": [],
   "source": [
    "G = myutils.load_map()"
   ]
  },
  {
   "cell_type": "code",
   "execution_count": null,
   "metadata": {},
   "outputs": [],
   "source": [
    "class StationModel():\n",
    "    stations = set()\n",
    "    def __init__(self, routeId, varId) -> None:\n",
    "        src = myutils.STOPS_FILE + str(varId)\n",
    "        api = myutils.STOPS_API(id=routeId, varId=varId)\n",
    "        stops_df = myutils.load_data(route=routeId, source=src, api=api)\n",
    "        self.stops_df = stops_df[[\"StopId\", \"Lat\", \"Lng\"]]\n",
    "        self.stops_df = self.stops_df.rename(columns={\"StopId\":\"stop_id\", \"Lat\":\"lat\", \"Lng\":\"lng\"})\n",
    "\n",
    "        StationModel.stations.update(self.stops_df[\"stop_id\"].tolist())"
   ]
  },
  {
   "cell_type": "code",
   "execution_count": null,
   "metadata": {},
   "outputs": [],
   "source": [
    "class BusModel():\n",
    "    def __init__(self, id) -> None:\n",
    "        self.stations = dict()\n",
    "        self.paths_df = dict()\n",
    "        timetables_df = myutils.load_data(route=id, source=myutils.TIMETABLE_FILE, api=myutils.TIMETABLE_API(id))\n",
    "        for varId in timetables_df[\"RouteVarId\"]:\n",
    "            self.stations[varId] = StationModel(routeId=id, varId=varId)\n",
    "            self.paths_df[varId] = myutils.load_data(route=id, source=myutils.PATHS_FILE, api=myutils.PATHS_API(id, varId=varId))\n",
    "        \n",
    "    def prepare_path(self):\n",
    "        with concurrent.futures.ProcessPoolExecutor() as executor:\n",
    "            params = [(varId, self.paths_df[varId], self.stations[varId].stops_df, G) for varId in self.paths_df.keys()]\n",
    "            results = executor.map(myutils.get_routes_from_paths, params)\n",
    "            for result in results:\n",
    "                id, df = result\n",
    "                self.paths_df[id] = df"
   ]
  },
  {
   "cell_type": "code",
   "execution_count": null,
   "metadata": {},
   "outputs": [],
   "source": [
    "buses = list()\n",
    "bus_ids = [8, 51, 30]\n",
    "for id in bus_ids:\n",
    "    bus = BusModel(id)\n",
    "    buses.append(bus)\n",
    "    bus.prepare_path()"
   ]
  },
  {
   "cell_type": "code",
   "execution_count": null,
   "metadata": {},
   "outputs": [
    {
     "ename": "TypeError",
     "evalue": "graph_all_routes() takes 1 positional argument but 2 were given",
     "output_type": "error",
     "traceback": [
      "\u001b[1;31m---------------------------------------------------------------------------\u001b[0m",
      "\u001b[1;31mTypeError\u001b[0m                                 Traceback (most recent call last)",
      "Cell \u001b[1;32mIn[14], line 1\u001b[0m\n\u001b[1;32m----> 1\u001b[0m myutils\u001b[39m.\u001b[39;49mgraph_all_routes(buses, G)\n",
      "\u001b[1;31mTypeError\u001b[0m: graph_all_routes() takes 1 positional argument but 2 were given"
     ]
    }
   ],
   "source": [
    "myutils.graph_all_routes(buses, G)"
   ]
  },
  {
   "cell_type": "code",
   "execution_count": null,
   "metadata": {},
   "outputs": [
    {
     "data": {
      "text/plain": [
       "2439.7"
      ]
     },
     "execution_count": 618,
     "metadata": {},
     "output_type": "execute_result"
    }
   ],
   "source": [
    "def get_travel_times(df):\n",
    "    return df[\"route\"].apply(lambda route: sum(ox.utils_graph.get_route_edge_attributes(G, route, \"travel_time\")))"
   ]
  }
 ],
 "metadata": {
  "kernelspec": {
   "display_name": "Python 3",
   "language": "python",
   "name": "python3"
  },
  "language_info": {
   "codemirror_mode": {
    "name": "ipython",
    "version": 3
   },
   "file_extension": ".py",
   "mimetype": "text/x-python",
   "name": "python",
   "nbconvert_exporter": "python",
   "pygments_lexer": "ipython3",
   "version": "3.11.1"
  },
  "orig_nbformat": 4
 },
 "nbformat": 4,
 "nbformat_minor": 2
}
